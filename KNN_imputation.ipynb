{
 "cells": [
  {
   "cell_type": "code",
   "execution_count": 1,
   "id": "3e193331-e043-4d5d-abd6-1815e6831708",
   "metadata": {},
   "outputs": [],
   "source": [
    "from sklearn.impute import KNNImputer\n",
    "import numpy as np"
   ]
  },
  {
   "cell_type": "code",
   "execution_count": 2,
   "id": "c258296a-7031-41da-a9db-4e50c1f9a57b",
   "metadata": {},
   "outputs": [],
   "source": [
    "data=np.array([\n",
    "    [2,4,np.nan],\n",
    "    [5,1,6],\n",
    "    [np.nan,5,7],\n",
    "    [9,8,9]\n",
    "])"
   ]
  },
  {
   "cell_type": "code",
   "execution_count": 3,
   "id": "ab28aaec-1ed9-4ea4-95ef-05c6409106e3",
   "metadata": {},
   "outputs": [],
   "source": [
    "knn_imputer=KNNImputer(n_neighbors=2)\n",
    "imputed_data=knn_imputer.fit_transform(data)"
   ]
  },
  {
   "cell_type": "code",
   "execution_count": 4,
   "id": "b3132286-9cad-454b-8123-b83cc6277c54",
   "metadata": {},
   "outputs": [
    {
     "data": {
      "text/plain": [
       "array([[ 2.,  4., nan],\n",
       "       [ 5.,  1.,  6.],\n",
       "       [nan,  5.,  7.],\n",
       "       [ 9.,  8.,  9.]])"
      ]
     },
     "execution_count": 4,
     "metadata": {},
     "output_type": "execute_result"
    }
   ],
   "source": [
    "data"
   ]
  },
  {
   "cell_type": "code",
   "execution_count": 5,
   "id": "bf1db1c6-a403-48f2-a2ec-bb98bcb7f157",
   "metadata": {},
   "outputs": [
    {
     "data": {
      "text/plain": [
       "array([[2. , 4. , 6.5],\n",
       "       [5. , 1. , 6. ],\n",
       "       [5.5, 5. , 7. ],\n",
       "       [9. , 8. , 9. ]])"
      ]
     },
     "execution_count": 5,
     "metadata": {},
     "output_type": "execute_result"
    }
   ],
   "source": [
    "imputed_data"
   ]
  },
  {
   "cell_type": "code",
   "execution_count": null,
   "id": "0c92a9eb-1860-4a62-880d-f0b492a333a3",
   "metadata": {},
   "outputs": [],
   "source": []
  }
 ],
 "metadata": {
  "kernelspec": {
   "display_name": "Python 3 (ipykernel)",
   "language": "python",
   "name": "python3"
  },
  "language_info": {
   "codemirror_mode": {
    "name": "ipython",
    "version": 3
   },
   "file_extension": ".py",
   "mimetype": "text/x-python",
   "name": "python",
   "nbconvert_exporter": "python",
   "pygments_lexer": "ipython3",
   "version": "3.11.7"
  }
 },
 "nbformat": 4,
 "nbformat_minor": 5
}
