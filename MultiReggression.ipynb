{
 "cells": [
  {
   "cell_type": "code",
   "execution_count": 3,
   "id": "411a87e9-05b9-4dfb-85bf-a63f78d31edc",
   "metadata": {},
   "outputs": [
    {
     "name": "stderr",
     "output_type": "stream",
     "text": [
      "C:\\ProgramData\\anaconda3\\Lib\\site-packages\\sklearn\\base.py:439: UserWarning: X does not have valid feature names, but LinearRegression was fitted with feature names\n",
      "  warnings.warn(\n"
     ]
    },
    {
     "data": {
      "text/plain": [
       "array([579201.19929613])"
      ]
     },
     "execution_count": 3,
     "metadata": {},
     "output_type": "execute_result"
    }
   ],
   "source": [
    "import pandas as pd\n",
    "import numpy as np\n",
    "from sklearn import linear_model\n",
    "\n",
    "df=pd.read_csv(\"homeprices.csv\")\n",
    "df\n",
    "import math\n",
    "median_bedrooms=math.floor(df.bedrooms.median())\n",
    "median_bedrooms\n",
    "df.bedrooms=df.bedrooms.fillna(median_bedrooms)\n",
    "df\n",
    "reg=linear_model.LinearRegression()\n",
    "reg.fit(df[['area','bedrooms','age']],df.price)\n",
    "reg.coef_\n",
    "reg.intercept_\n",
    "reg.predict([[3000,3,15]])"
   ]
  },
  {
   "cell_type": "code",
   "execution_count": null,
   "id": "38585062-3995-475e-a595-d06d22723872",
   "metadata": {},
   "outputs": [],
   "source": []
  }
 ],
 "metadata": {
  "kernelspec": {
   "display_name": "Python 3 (ipykernel)",
   "language": "python",
   "name": "python3"
  },
  "language_info": {
   "codemirror_mode": {
    "name": "ipython",
    "version": 3
   },
   "file_extension": ".py",
   "mimetype": "text/x-python",
   "name": "python",
   "nbconvert_exporter": "python",
   "pygments_lexer": "ipython3",
   "version": "3.11.7"
  }
 },
 "nbformat": 4,
 "nbformat_minor": 5
}
